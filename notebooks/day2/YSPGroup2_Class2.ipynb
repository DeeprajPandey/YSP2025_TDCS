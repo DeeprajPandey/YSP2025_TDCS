{
  "nbformat": 4,
  "nbformat_minor": 0,
  "metadata": {
    "colab": {
      "provenance": []
    },
    "kernelspec": {
      "name": "python3",
      "display_name": "Python 3"
    },
    "language_info": {
      "name": "python"
    }
  },
  "cells": [
    {
      "cell_type": "markdown",
      "source": [
        "#Targeted Travel Ads#\n"
      ],
      "metadata": {
        "id": "ZBvEClVHy8Ef"
      }
    },
    {
      "cell_type": "markdown",
      "source": [
        "You have been recruited by a travel agency to advertise its travel plans to people who use the agency's partner websites.\n",
        "\n",
        "#Target Identification#\n",
        "\n",
        "The first step towards advertising is to know who you are advertising to. Suppose you have received a list of users of your partner websites who could be your target demographic.\n",
        "\n",
        "\n",
        "*   amuro1979\n",
        "*   zeta_kamille\n",
        "*   judauashta\n",
        "*   pilot4unicorn\n",
        "*   mafty\n",
        "\n",
        "Add these users to your target database using a 4-tuple to define (username, age, amount willing to spend on travel, continent they want to visit). Give them an identity here.\n",
        "\n"
      ],
      "metadata": {
        "id": "_cn-4hVczB4v"
      }
    },
    {
      "cell_type": "code",
      "execution_count": null,
      "metadata": {
        "id": "HpzbN3ESyVQQ"
      },
      "outputs": [],
      "source": [
        "targetusers = []\n",
        "targetusers.append((\"Kylie\", 17, 70000, \"Asia\")) # examples of how you might append a user to your userbase\n"
      ]
    },
    {
      "cell_type": "markdown",
      "source": [
        "# Interest Identification #\n",
        "\n",
        "**Note : You must have a knowledge of loops to be able to solve this question**\n",
        "\n",
        "Now that you have a list of people to target your ads towards, the next step is to understand whether this person fits the demographic you are capable of serving. The factors include but may not be limited to the following:\n",
        "\n",
        "*   You cannot sell travel plans to anyone below the age of 16.\n",
        "*   All trips will cost more than 50000, filter out those not willing to spend more than that amount.\n",
        "*   The travel agency would only want to target ads to those who want to go to either Asia, Europe, or North America\n",
        "\n",
        "\n",
        "\n",
        "Retrive each attribute of the users so that you can evaluate whether you can target ads towards them or not.\n",
        "\n",
        "🔧 Bonus: Delete those who do not fit the factors."
      ],
      "metadata": {
        "id": "C8oyzA6s44Ie"
      }
    },
    {
      "cell_type": "code",
      "source": [],
      "metadata": {
        "id": "p8xykEAB43Kd"
      },
      "execution_count": null,
      "outputs": []
    },
    {
      "cell_type": "markdown",
      "source": [
        "# Picking up keywords #\n",
        "\n",
        "Note : You must have knowledge of nested loops to solve this question\n",
        "\n",
        "By now you must have realised how many of the users from the initial list are actually targetable. However, if you start showing ads to them with such a shallow idea of them, they may not react to those ads positively. The precision of ads are crutial to their performance.\n",
        "\n",
        "The next step is to read your target's comments on your partner websites to understand your target better. Suppose your agency has a travel plan for Japan. You need to know if your target discusses Japanese culture, and whether it is in a positive or a negative light.\n",
        "\n",
        "‼️ Hints:\n",
        "*  A person may not mention Japan directly but could still be talking about it.\n",
        "\n",
        "*  Since we are only concerned with Japan at the moment, try to look past your target's negative opinions towards other things.\n",
        "\n",
        "*  To know whether your user is referring to topics of Japan. check for words from this list:\n"
      ],
      "metadata": {
        "id": "mrxCM4Cc8OMg"
      }
    },
    {
      "cell_type": "code",
      "source": [
        "Japan= [\"Japan\", \"Sushi\", \"Anime\", \"Tokyo\", \"Ramen\", \"Shinjuku\", \"Manga\", \"Tokusatsu\", \"Kyoto\", \"Hirohiko Araki\", \"Rumiko Takahashi\", \"Shinjuku\", \"Samurai\"]\n",
        "\n",
        "# We are only checking for one user as of now\n",
        "comments = [\"The samurai were so cool.\",\"I think sushi tastes very bad.\", \"I hate dancing.\",\"Tokyo must be a fun\",\"Anime is my life I swear.\"]"
      ],
      "metadata": {
        "id": "7YA7HY3vAvJD"
      },
      "execution_count": null,
      "outputs": []
    },
    {
      "cell_type": "code",
      "source": [],
      "metadata": {
        "id": "U1Xj4pEotW4b"
      },
      "execution_count": null,
      "outputs": []
    }
  ]
}